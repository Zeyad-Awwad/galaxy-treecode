{
 "cells": [
  {
   "cell_type": "code",
   "execution_count": 16,
   "metadata": {},
   "outputs": [],
   "source": [
    "\n",
    "\n",
    "%run functions\n",
    "\n",
    "directory = \"/Users/Zeyad/Documents/GitHub/galaxy-treecode/\"\n",
    "filename = 'milkyway_andromeda.txt'\n",
    "compile_cpp = False\n",
    "if compile_cpp:\n",
    "    compile_cpp_files(directory, [\"treecode\"])"
   ]
  },
  {
   "cell_type": "code",
   "execution_count": 19,
   "metadata": {},
   "outputs": [],
   "source": [
    "inputfile = directory + filename\n",
    "outputfiles = \"output\"\n",
    "dt = 0.005\n",
    "nsteps = 1\n",
    "threshold = 1\n",
    "eps = 0.01\n",
    "groups = [ 800, 3000, 200, 400 ]\n",
    "#groups = [ 8000, 30000, 2000, 400 ]  "
   ]
  },
  {
   "cell_type": "code",
   "execution_count": 20,
   "metadata": {},
   "outputs": [],
   "source": [
    "run_treecode(directory + \"main\", directory, inputfile, outputfiles, dt, nsteps, eps, threshold)"
   ]
  },
  {
   "cell_type": "code",
   "execution_count": null,
   "metadata": {},
   "outputs": [],
   "source": []
  }
 ],
 "metadata": {
  "kernelspec": {
   "display_name": "Python 3",
   "language": "python",
   "name": "python3"
  },
  "language_info": {
   "codemirror_mode": {
    "name": "ipython",
    "version": 3
   },
   "file_extension": ".py",
   "mimetype": "text/x-python",
   "name": "python",
   "nbconvert_exporter": "python",
   "pygments_lexer": "ipython3",
   "version": "3.7.6"
  }
 },
 "nbformat": 4,
 "nbformat_minor": 4
}
